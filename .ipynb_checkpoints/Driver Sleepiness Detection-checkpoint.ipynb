{
 "cells": [
  {
   "cell_type": "code",
   "execution_count": 16,
   "id": "9ea00e19",
   "metadata": {
    "scrolled": true
   },
   "outputs": [
    {
     "name": "stdout",
     "output_type": "stream",
     "text": [
      "Requirement already satisfied: torch in c:\\users\\prakh\\anaconda3\\lib\\site-packages (1.13.1)\n",
      "Requirement already satisfied: torchvision in c:\\users\\prakh\\anaconda3\\lib\\site-packages (0.14.1)\n",
      "Requirement already satisfied: torchaudio in c:\\users\\prakh\\anaconda3\\lib\\site-packages (0.13.1)\n",
      "Requirement already satisfied: typing-extensions in c:\\users\\prakh\\anaconda3\\lib\\site-packages (from torch) (4.3.0)\n",
      "Requirement already satisfied: requests in c:\\users\\prakh\\anaconda3\\lib\\site-packages (from torchvision) (2.28.1)\n",
      "Requirement already satisfied: pillow!=8.3.*,>=5.3.0 in c:\\users\\prakh\\anaconda3\\lib\\site-packages (from torchvision) (9.2.0)\n",
      "Requirement already satisfied: numpy in c:\\users\\prakh\\anaconda3\\lib\\site-packages (from torchvision) (1.21.5)\n",
      "Requirement already satisfied: urllib3<1.27,>=1.21.1 in c:\\users\\prakh\\anaconda3\\lib\\site-packages (from requests->torchvision) (1.26.11)\n",
      "Requirement already satisfied: certifi>=2017.4.17 in c:\\users\\prakh\\anaconda3\\lib\\site-packages (from requests->torchvision) (2022.9.14)\n",
      "Requirement already satisfied: charset-normalizer<3,>=2 in c:\\users\\prakh\\anaconda3\\lib\\site-packages (from requests->torchvision) (2.0.4)\n",
      "Requirement already satisfied: idna<4,>=2.5 in c:\\users\\prakh\\anaconda3\\lib\\site-packages (from requests->torchvision) (3.3)\n"
     ]
    }
   ],
   "source": [
    "!pip3 install torch torchvision torchaudio"
   ]
  },
  {
   "cell_type": "code",
   "execution_count": 17,
   "id": "d70b7aad",
   "metadata": {},
   "outputs": [
    {
     "name": "stderr",
     "output_type": "stream",
     "text": [
      "fatal: destination path 'yolov5' already exists and is not an empty directory.\n"
     ]
    }
   ],
   "source": [
    "!git clone https://github.com/ultralytics/yolov5 "
   ]
  },
  {
   "cell_type": "code",
   "execution_count": 18,
   "id": "31c6ab8e",
   "metadata": {},
   "outputs": [
    {
     "name": "stdout",
     "output_type": "stream",
     "text": [
      "Requirement already satisfied: gitpython in c:\\users\\prakh\\anaconda3\\lib\\site-packages (from -r yolov5/requirements.txt (line 5)) (3.1.30)\n",
      "Requirement already satisfied: ipython in c:\\users\\prakh\\anaconda3\\lib\\site-packages (from -r yolov5/requirements.txt (line 6)) (7.31.1)\n",
      "Requirement already satisfied: matplotlib>=3.2.2 in c:\\users\\prakh\\anaconda3\\lib\\site-packages (from -r yolov5/requirements.txt (line 7)) (3.5.2)\n",
      "Requirement already satisfied: numpy>=1.18.5 in c:\\users\\prakh\\anaconda3\\lib\\site-packages (from -r yolov5/requirements.txt (line 8)) (1.21.5)\n",
      "Requirement already satisfied: opencv-python>=4.1.1 in c:\\users\\prakh\\anaconda3\\lib\\site-packages (from -r yolov5/requirements.txt (line 9)) (4.7.0.68)\n",
      "Requirement already satisfied: Pillow>=7.1.2 in c:\\users\\prakh\\anaconda3\\lib\\site-packages (from -r yolov5/requirements.txt (line 10)) (9.2.0)\n",
      "Requirement already satisfied: psutil in c:\\users\\prakh\\anaconda3\\lib\\site-packages (from -r yolov5/requirements.txt (line 11)) (5.9.0)\n",
      "Requirement already satisfied: PyYAML>=5.3.1 in c:\\users\\prakh\\anaconda3\\lib\\site-packages (from -r yolov5/requirements.txt (line 12)) (6.0)\n",
      "Requirement already satisfied: requests>=2.23.0 in c:\\users\\prakh\\anaconda3\\lib\\site-packages (from -r yolov5/requirements.txt (line 13)) (2.28.1)\n",
      "Requirement already satisfied: scipy>=1.4.1 in c:\\users\\prakh\\anaconda3\\lib\\site-packages (from -r yolov5/requirements.txt (line 14)) (1.9.1)\n",
      "Requirement already satisfied: thop>=0.1.1 in c:\\users\\prakh\\anaconda3\\lib\\site-packages (from -r yolov5/requirements.txt (line 15)) (0.1.1.post2209072238)\n",
      "Requirement already satisfied: torch>=1.7.0 in c:\\users\\prakh\\anaconda3\\lib\\site-packages (from -r yolov5/requirements.txt (line 16)) (1.13.1)\n",
      "Requirement already satisfied: torchvision>=0.8.1 in c:\\users\\prakh\\anaconda3\\lib\\site-packages (from -r yolov5/requirements.txt (line 17)) (0.14.1)\n",
      "Requirement already satisfied: tqdm>=4.64.0 in c:\\users\\prakh\\anaconda3\\lib\\site-packages (from -r yolov5/requirements.txt (line 18)) (4.64.1)\n",
      "Requirement already satisfied: tensorboard>=2.4.1 in c:\\users\\prakh\\anaconda3\\lib\\site-packages (from -r yolov5/requirements.txt (line 22)) (2.11.2)\n",
      "Requirement already satisfied: pandas>=1.1.4 in c:\\users\\prakh\\anaconda3\\lib\\site-packages (from -r yolov5/requirements.txt (line 27)) (1.4.4)\n",
      "Requirement already satisfied: seaborn>=0.11.0 in c:\\users\\prakh\\anaconda3\\lib\\site-packages (from -r yolov5/requirements.txt (line 28)) (0.11.2)\n",
      "Requirement already satisfied: gitdb<5,>=4.0.1 in c:\\users\\prakh\\anaconda3\\lib\\site-packages (from gitpython->-r yolov5/requirements.txt (line 5)) (4.0.10)\n",
      "Requirement already satisfied: decorator in c:\\users\\prakh\\anaconda3\\lib\\site-packages (from ipython->-r yolov5/requirements.txt (line 6)) (5.1.1)\n",
      "Requirement already satisfied: setuptools>=18.5 in c:\\users\\prakh\\anaconda3\\lib\\site-packages (from ipython->-r yolov5/requirements.txt (line 6)) (63.4.1)\n",
      "Requirement already satisfied: jedi>=0.16 in c:\\users\\prakh\\anaconda3\\lib\\site-packages (from ipython->-r yolov5/requirements.txt (line 6)) (0.18.1)\n",
      "Requirement already satisfied: traitlets>=4.2 in c:\\users\\prakh\\anaconda3\\lib\\site-packages (from ipython->-r yolov5/requirements.txt (line 6)) (5.1.1)\n",
      "Requirement already satisfied: prompt-toolkit!=3.0.0,!=3.0.1,<3.1.0,>=2.0.0 in c:\\users\\prakh\\anaconda3\\lib\\site-packages (from ipython->-r yolov5/requirements.txt (line 6)) (3.0.20)\n",
      "Requirement already satisfied: pygments in c:\\users\\prakh\\anaconda3\\lib\\site-packages (from ipython->-r yolov5/requirements.txt (line 6)) (2.11.2)\n",
      "Requirement already satisfied: colorama in c:\\users\\prakh\\anaconda3\\lib\\site-packages (from ipython->-r yolov5/requirements.txt (line 6)) (0.4.5)\n",
      "Requirement already satisfied: backcall in c:\\users\\prakh\\anaconda3\\lib\\site-packages (from ipython->-r yolov5/requirements.txt (line 6)) (0.2.0)\n",
      "Requirement already satisfied: matplotlib-inline in c:\\users\\prakh\\anaconda3\\lib\\site-packages (from ipython->-r yolov5/requirements.txt (line 6)) (0.1.6)\n",
      "Requirement already satisfied: pickleshare in c:\\users\\prakh\\anaconda3\\lib\\site-packages (from ipython->-r yolov5/requirements.txt (line 6)) (0.7.5)\n",
      "Requirement already satisfied: kiwisolver>=1.0.1 in c:\\users\\prakh\\anaconda3\\lib\\site-packages (from matplotlib>=3.2.2->-r yolov5/requirements.txt (line 7)) (1.4.2)\n",
      "Requirement already satisfied: packaging>=20.0 in c:\\users\\prakh\\anaconda3\\lib\\site-packages (from matplotlib>=3.2.2->-r yolov5/requirements.txt (line 7)) (21.3)\n",
      "Requirement already satisfied: pyparsing>=2.2.1 in c:\\users\\prakh\\anaconda3\\lib\\site-packages (from matplotlib>=3.2.2->-r yolov5/requirements.txt (line 7)) (3.0.9)\n",
      "Requirement already satisfied: fonttools>=4.22.0 in c:\\users\\prakh\\anaconda3\\lib\\site-packages (from matplotlib>=3.2.2->-r yolov5/requirements.txt (line 7)) (4.25.0)\n",
      "Requirement already satisfied: cycler>=0.10 in c:\\users\\prakh\\anaconda3\\lib\\site-packages (from matplotlib>=3.2.2->-r yolov5/requirements.txt (line 7)) (0.11.0)\n",
      "Requirement already satisfied: python-dateutil>=2.7 in c:\\users\\prakh\\anaconda3\\lib\\site-packages (from matplotlib>=3.2.2->-r yolov5/requirements.txt (line 7)) (2.8.2)\n",
      "Requirement already satisfied: idna<4,>=2.5 in c:\\users\\prakh\\anaconda3\\lib\\site-packages (from requests>=2.23.0->-r yolov5/requirements.txt (line 13)) (3.3)\n",
      "Requirement already satisfied: charset-normalizer<3,>=2 in c:\\users\\prakh\\anaconda3\\lib\\site-packages (from requests>=2.23.0->-r yolov5/requirements.txt (line 13)) (2.0.4)\n",
      "Requirement already satisfied: urllib3<1.27,>=1.21.1 in c:\\users\\prakh\\anaconda3\\lib\\site-packages (from requests>=2.23.0->-r yolov5/requirements.txt (line 13)) (1.26.11)\n",
      "Requirement already satisfied: certifi>=2017.4.17 in c:\\users\\prakh\\anaconda3\\lib\\site-packages (from requests>=2.23.0->-r yolov5/requirements.txt (line 13)) (2022.9.14)\n",
      "Requirement already satisfied: typing-extensions in c:\\users\\prakh\\anaconda3\\lib\\site-packages (from torch>=1.7.0->-r yolov5/requirements.txt (line 16)) (4.3.0)\n",
      "Requirement already satisfied: tensorboard-plugin-wit>=1.6.0 in c:\\users\\prakh\\anaconda3\\lib\\site-packages (from tensorboard>=2.4.1->-r yolov5/requirements.txt (line 22)) (1.8.1)\n",
      "Requirement already satisfied: tensorboard-data-server<0.7.0,>=0.6.0 in c:\\users\\prakh\\anaconda3\\lib\\site-packages (from tensorboard>=2.4.1->-r yolov5/requirements.txt (line 22)) (0.6.1)\n",
      "Requirement already satisfied: google-auth<3,>=1.6.3 in c:\\users\\prakh\\anaconda3\\lib\\site-packages (from tensorboard>=2.4.1->-r yolov5/requirements.txt (line 22)) (2.16.0)\n",
      "Requirement already satisfied: wheel>=0.26 in c:\\users\\prakh\\anaconda3\\lib\\site-packages (from tensorboard>=2.4.1->-r yolov5/requirements.txt (line 22)) (0.37.1)\n",
      "Requirement already satisfied: google-auth-oauthlib<0.5,>=0.4.1 in c:\\users\\prakh\\anaconda3\\lib\\site-packages (from tensorboard>=2.4.1->-r yolov5/requirements.txt (line 22)) (0.4.6)\n",
      "Requirement already satisfied: grpcio>=1.24.3 in c:\\users\\prakh\\anaconda3\\lib\\site-packages (from tensorboard>=2.4.1->-r yolov5/requirements.txt (line 22)) (1.51.1)\n",
      "Requirement already satisfied: markdown>=2.6.8 in c:\\users\\prakh\\anaconda3\\lib\\site-packages (from tensorboard>=2.4.1->-r yolov5/requirements.txt (line 22)) (3.3.4)\n",
      "Requirement already satisfied: werkzeug>=1.0.1 in c:\\users\\prakh\\anaconda3\\lib\\site-packages (from tensorboard>=2.4.1->-r yolov5/requirements.txt (line 22)) (2.0.3)\n",
      "Requirement already satisfied: absl-py>=0.4 in c:\\users\\prakh\\anaconda3\\lib\\site-packages (from tensorboard>=2.4.1->-r yolov5/requirements.txt (line 22)) (1.4.0)\n",
      "Requirement already satisfied: protobuf<4,>=3.9.2 in c:\\users\\prakh\\anaconda3\\lib\\site-packages (from tensorboard>=2.4.1->-r yolov5/requirements.txt (line 22)) (3.20.3)\n",
      "Requirement already satisfied: pytz>=2020.1 in c:\\users\\prakh\\anaconda3\\lib\\site-packages (from pandas>=1.1.4->-r yolov5/requirements.txt (line 27)) (2022.1)\n",
      "Requirement already satisfied: smmap<6,>=3.0.1 in c:\\users\\prakh\\anaconda3\\lib\\site-packages (from gitdb<5,>=4.0.1->gitpython->-r yolov5/requirements.txt (line 5)) (5.0.0)\n",
      "Requirement already satisfied: six>=1.9.0 in c:\\users\\prakh\\anaconda3\\lib\\site-packages (from google-auth<3,>=1.6.3->tensorboard>=2.4.1->-r yolov5/requirements.txt (line 22)) (1.16.0)\n",
      "Requirement already satisfied: pyasn1-modules>=0.2.1 in c:\\users\\prakh\\anaconda3\\lib\\site-packages (from google-auth<3,>=1.6.3->tensorboard>=2.4.1->-r yolov5/requirements.txt (line 22)) (0.2.8)\n",
      "Requirement already satisfied: cachetools<6.0,>=2.0.0 in c:\\users\\prakh\\anaconda3\\lib\\site-packages (from google-auth<3,>=1.6.3->tensorboard>=2.4.1->-r yolov5/requirements.txt (line 22)) (5.3.0)\n",
      "Requirement already satisfied: rsa<5,>=3.1.4 in c:\\users\\prakh\\anaconda3\\lib\\site-packages (from google-auth<3,>=1.6.3->tensorboard>=2.4.1->-r yolov5/requirements.txt (line 22)) (4.9)\n",
      "Requirement already satisfied: requests-oauthlib>=0.7.0 in c:\\users\\prakh\\anaconda3\\lib\\site-packages (from google-auth-oauthlib<0.5,>=0.4.1->tensorboard>=2.4.1->-r yolov5/requirements.txt (line 22)) (1.3.1)\n",
      "Requirement already satisfied: parso<0.9.0,>=0.8.0 in c:\\users\\prakh\\anaconda3\\lib\\site-packages (from jedi>=0.16->ipython->-r yolov5/requirements.txt (line 6)) (0.8.3)\n",
      "Requirement already satisfied: wcwidth in c:\\users\\prakh\\anaconda3\\lib\\site-packages (from prompt-toolkit!=3.0.0,!=3.0.1,<3.1.0,>=2.0.0->ipython->-r yolov5/requirements.txt (line 6)) (0.2.5)\n",
      "Requirement already satisfied: pyasn1<0.5.0,>=0.4.6 in c:\\users\\prakh\\anaconda3\\lib\\site-packages (from pyasn1-modules>=0.2.1->google-auth<3,>=1.6.3->tensorboard>=2.4.1->-r yolov5/requirements.txt (line 22)) (0.4.8)\n",
      "Requirement already satisfied: oauthlib>=3.0.0 in c:\\users\\prakh\\anaconda3\\lib\\site-packages (from requests-oauthlib>=0.7.0->google-auth-oauthlib<0.5,>=0.4.1->tensorboard>=2.4.1->-r yolov5/requirements.txt (line 22)) (3.2.2)\n"
     ]
    }
   ],
   "source": [
    "!pip install -r yolov5/requirements.txt"
   ]
  },
  {
   "cell_type": "code",
   "execution_count": 3,
   "id": "d237bc69",
   "metadata": {},
   "outputs": [],
   "source": [
    "import torch\n",
    "from matplotlib import pyplot as plt\n",
    "import numpy as np\n",
    "import cv2"
   ]
  },
  {
   "cell_type": "code",
   "execution_count": 7,
   "id": "21024ba8",
   "metadata": {},
   "outputs": [
    {
     "name": "stderr",
     "output_type": "stream",
     "text": [
      "Using cache found in C:\\Users\\prakh/.cache\\torch\\hub\\ultralytics_yolov5_master\n",
      "YOLOv5  2023-1-24 Python-3.9.13 torch-1.13.1+cpu CPU\n",
      "\n",
      "Fusing layers... \n",
      "YOLOv5s summary: 213 layers, 7225885 parameters, 0 gradients\n",
      "Adding AutoShape... \n"
     ]
    }
   ],
   "source": [
    "model = torch.hub.load('ultralytics/yolov5','yolov5s')"
   ]
  },
  {
   "cell_type": "code",
   "execution_count": 8,
   "id": "3ea91b69",
   "metadata": {},
   "outputs": [
    {
     "name": "stderr",
     "output_type": "stream",
     "text": [
      "image 1/1: 684x1025 61 cars\n",
      "Speed: 1972.0ms pre-process, 369.1ms inference, 16.0ms NMS per image at shape (1, 3, 448, 640)\n"
     ]
    }
   ],
   "source": [
    "img = 'https://media.wired.com/photos/593256b42a990b06268a9e21/master/pass/traffic-jam-getty.jpg'\n",
    "results = model(img)\n",
    "results.print()"
   ]
  },
  {
   "cell_type": "markdown",
   "id": "1a39038c",
   "metadata": {},
   "source": [
    "%matplotlib inline\n",
    "plt.imshow(np.squeeze(results.render()))\n",
    "plt.show()"
   ]
  },
  {
   "cell_type": "code",
   "execution_count": 9,
   "id": "e5ba65f6",
   "metadata": {},
   "outputs": [],
   "source": [
    "cap = cv2.VideoCapture(0)\n",
    "while cap.isOpened():\n",
    "  ret,frame = cap.read()\n",
    "  #make detections\n",
    "  results = model(frame)\n",
    "  cv2.imshow('YOLO',np.squeeze(results.render()))\n",
    "  if cv2.waitKey(10) & 0xFF == ord('q'):\n",
    "    break\n",
    "cap.release()\n",
    "cv2.destroyAllWindows()"
   ]
  },
  {
   "cell_type": "markdown",
   "id": "02aa300c",
   "metadata": {},
   "source": [
    "Train from Scratch"
   ]
  },
  {
   "cell_type": "code",
   "execution_count": 22,
   "id": "4e0f1a72",
   "metadata": {},
   "outputs": [],
   "source": [
    "import uuid #unique identifier\n",
    "import os\n",
    "import time"
   ]
  },
  {
   "cell_type": "code",
   "execution_count": 23,
   "id": "1ba0fa22",
   "metadata": {},
   "outputs": [],
   "source": [
    "#making varibales\n",
    "IMAGES_PATH = os.path.join('data','images') #/data/images\n",
    "labels = ['awake','drowsy'] \n",
    "number_imgs = 20\n"
   ]
  },
  {
   "cell_type": "code",
   "execution_count": 26,
   "id": "e4f39dca",
   "metadata": {},
   "outputs": [
    {
     "name": "stdout",
     "output_type": "stream",
     "text": [
      "Collecting images for awake\n",
      "Collecting images for awake, image number 0\n",
      "Collecting images for awake, image number 1\n",
      "Collecting images for awake, image number 2\n",
      "Collecting images for awake, image number 3\n",
      "Collecting images for awake, image number 4\n",
      "Collecting images for awake, image number 5\n",
      "Collecting images for awake, image number 6\n",
      "Collecting images for awake, image number 7\n",
      "Collecting images for awake, image number 8\n",
      "Collecting images for awake, image number 9\n",
      "Collecting images for awake, image number 10\n",
      "Collecting images for awake, image number 11\n",
      "Collecting images for awake, image number 12\n",
      "Collecting images for awake, image number 13\n",
      "Collecting images for awake, image number 14\n",
      "Collecting images for awake, image number 15\n",
      "Collecting images for awake, image number 16\n",
      "Collecting images for awake, image number 17\n",
      "Collecting images for awake, image number 18\n",
      "Collecting images for awake, image number 19\n",
      "Collecting images for drowsy\n",
      "Collecting images for drowsy, image number 0\n",
      "Collecting images for drowsy, image number 1\n",
      "Collecting images for drowsy, image number 2\n",
      "Collecting images for drowsy, image number 3\n",
      "Collecting images for drowsy, image number 4\n",
      "Collecting images for drowsy, image number 5\n",
      "Collecting images for drowsy, image number 6\n",
      "Collecting images for drowsy, image number 7\n",
      "Collecting images for drowsy, image number 8\n",
      "Collecting images for drowsy, image number 9\n",
      "Collecting images for drowsy, image number 10\n",
      "Collecting images for drowsy, image number 11\n",
      "Collecting images for drowsy, image number 12\n",
      "Collecting images for drowsy, image number 13\n",
      "Collecting images for drowsy, image number 14\n",
      "Collecting images for drowsy, image number 15\n",
      "Collecting images for drowsy, image number 16\n",
      "Collecting images for drowsy, image number 17\n",
      "Collecting images for drowsy, image number 18\n",
      "Collecting images for drowsy, image number 19\n"
     ]
    }
   ],
   "source": [
    "cap = cv2.VideoCapture(0)\n",
    "# Loop through labels\n",
    "for label in labels:\n",
    "    print('Collecting images for {}'.format(label))\n",
    "    time.sleep(5)\n",
    "    \n",
    "    # Loop through image range\n",
    "    for img_num in range(number_imgs):\n",
    "        print('Collecting images for {}, image number {}'.format(label, img_num))\n",
    "        \n",
    "        # Webcam feed\n",
    "        ret, frame = cap.read()\n",
    "        \n",
    "        # Naming out image path\n",
    "        imgname = os.path.join(IMAGES_PATH, label+'.'+str(uuid.uuid1())+'.jpg')\n",
    "        \n",
    "        # Writes out image to file \n",
    "        cv2.imwrite(imgname, frame)\n",
    "        \n",
    "        # Render to the screen\n",
    "        cv2.imshow('Image Collection', frame)\n",
    "        \n",
    "        # 2 second delay between captures\n",
    "        time.sleep(2)\n",
    "        \n",
    "        if cv2.waitKey(10) & 0xFF == ord('q'):\n",
    "            break\n",
    "cap.release()\n",
    "cv2.destroyAllWindows()        "
   ]
  },
  {
   "cell_type": "code",
   "execution_count": 20,
   "id": "89e1ffe5",
   "metadata": {},
   "outputs": [
    {
     "name": "stdout",
     "output_type": "stream",
     "text": [
      "Collecting images for awake\n",
      "Collecting images for awake , image number 0 \n",
      "data\\images\\awake.d23b965b-9bfb-11ed-8b99-80d1ae79c22c.jpg\n",
      "Collecting images for awake , image number 1 \n",
      "data\\images\\awake.d23b965c-9bfb-11ed-a90a-80d1ae79c22c.jpg\n",
      "Collecting images for awake , image number 2 \n",
      "data\\images\\awake.d23b965d-9bfb-11ed-a067-80d1ae79c22c.jpg\n",
      "Collecting images for awake , image number 3 \n",
      "data\\images\\awake.d23b965e-9bfb-11ed-a41b-80d1ae79c22c.jpg\n",
      "Collecting images for awake , image number 4 \n",
      "data\\images\\awake.d23b965f-9bfb-11ed-89ed-80d1ae79c22c.jpg\n",
      "Collecting images for awake , image number 5 \n",
      "data\\images\\awake.d23b9660-9bfb-11ed-8e54-80d1ae79c22c.jpg\n",
      "Collecting images for awake , image number 6 \n",
      "data\\images\\awake.d23b9661-9bfb-11ed-aec7-80d1ae79c22c.jpg\n",
      "Collecting images for awake , image number 7 \n",
      "data\\images\\awake.d23b9662-9bfb-11ed-b733-80d1ae79c22c.jpg\n",
      "Collecting images for awake , image number 8 \n",
      "data\\images\\awake.d23bbd62-9bfb-11ed-9e95-80d1ae79c22c.jpg\n",
      "Collecting images for awake , image number 9 \n",
      "data\\images\\awake.d23bbd63-9bfb-11ed-ab79-80d1ae79c22c.jpg\n",
      "Collecting images for awake , image number 10 \n",
      "data\\images\\awake.d23bbd64-9bfb-11ed-a0c4-80d1ae79c22c.jpg\n",
      "Collecting images for awake , image number 11 \n",
      "data\\images\\awake.d23bbd65-9bfb-11ed-98ca-80d1ae79c22c.jpg\n",
      "Collecting images for awake , image number 12 \n",
      "data\\images\\awake.d23bbd66-9bfb-11ed-b55c-80d1ae79c22c.jpg\n",
      "Collecting images for awake , image number 13 \n",
      "data\\images\\awake.d23bbd67-9bfb-11ed-90be-80d1ae79c22c.jpg\n",
      "Collecting images for awake , image number 14 \n",
      "data\\images\\awake.d23bbd68-9bfb-11ed-b4ec-80d1ae79c22c.jpg\n",
      "Collecting images for awake , image number 15 \n",
      "data\\images\\awake.d23bbd69-9bfb-11ed-be77-80d1ae79c22c.jpg\n",
      "Collecting images for awake , image number 16 \n",
      "data\\images\\awake.d23bbd6a-9bfb-11ed-90af-80d1ae79c22c.jpg\n",
      "Collecting images for awake , image number 17 \n",
      "data\\images\\awake.d23bbd6b-9bfb-11ed-8581-80d1ae79c22c.jpg\n",
      "Collecting images for awake , image number 18 \n",
      "data\\images\\awake.d23bbd6c-9bfb-11ed-bf57-80d1ae79c22c.jpg\n",
      "Collecting images for awake , image number 19 \n",
      "data\\images\\awake.d23bbd6d-9bfb-11ed-8fe2-80d1ae79c22c.jpg\n",
      "Collecting images for drowsy\n",
      "Collecting images for drowsy , image number 0 \n",
      "data\\images\\drowsy.d23bbd6e-9bfb-11ed-aabd-80d1ae79c22c.jpg\n",
      "Collecting images for drowsy , image number 1 \n",
      "data\\images\\drowsy.d23bbd6f-9bfb-11ed-ab84-80d1ae79c22c.jpg\n",
      "Collecting images for drowsy , image number 2 \n",
      "data\\images\\drowsy.d23bbd70-9bfb-11ed-81b1-80d1ae79c22c.jpg\n",
      "Collecting images for drowsy , image number 3 \n",
      "data\\images\\drowsy.d23be466-9bfb-11ed-8feb-80d1ae79c22c.jpg\n",
      "Collecting images for drowsy , image number 4 \n",
      "data\\images\\drowsy.d23be467-9bfb-11ed-8f28-80d1ae79c22c.jpg\n",
      "Collecting images for drowsy , image number 5 \n",
      "data\\images\\drowsy.d23be468-9bfb-11ed-9457-80d1ae79c22c.jpg\n",
      "Collecting images for drowsy , image number 6 \n",
      "data\\images\\drowsy.d23be469-9bfb-11ed-b9c9-80d1ae79c22c.jpg\n",
      "Collecting images for drowsy , image number 7 \n",
      "data\\images\\drowsy.d23be46a-9bfb-11ed-97c6-80d1ae79c22c.jpg\n",
      "Collecting images for drowsy , image number 8 \n",
      "data\\images\\drowsy.d23be46b-9bfb-11ed-8db6-80d1ae79c22c.jpg\n",
      "Collecting images for drowsy , image number 9 \n",
      "data\\images\\drowsy.d23be46c-9bfb-11ed-bf8c-80d1ae79c22c.jpg\n",
      "Collecting images for drowsy , image number 10 \n",
      "data\\images\\drowsy.d23be46d-9bfb-11ed-aa43-80d1ae79c22c.jpg\n",
      "Collecting images for drowsy , image number 11 \n",
      "data\\images\\drowsy.d23be46e-9bfb-11ed-b011-80d1ae79c22c.jpg\n",
      "Collecting images for drowsy , image number 12 \n",
      "data\\images\\drowsy.d23be46f-9bfb-11ed-815c-80d1ae79c22c.jpg\n",
      "Collecting images for drowsy , image number 13 \n",
      "data\\images\\drowsy.d23be470-9bfb-11ed-a18b-80d1ae79c22c.jpg\n",
      "Collecting images for drowsy , image number 14 \n",
      "data\\images\\drowsy.d23be471-9bfb-11ed-a4a7-80d1ae79c22c.jpg\n",
      "Collecting images for drowsy , image number 15 \n",
      "data\\images\\drowsy.d23be472-9bfb-11ed-a98e-80d1ae79c22c.jpg\n",
      "Collecting images for drowsy , image number 16 \n",
      "data\\images\\drowsy.d23be473-9bfb-11ed-9d67-80d1ae79c22c.jpg\n",
      "Collecting images for drowsy , image number 17 \n",
      "data\\images\\drowsy.d23be474-9bfb-11ed-8ee0-80d1ae79c22c.jpg\n",
      "Collecting images for drowsy , image number 18 \n",
      "data\\images\\drowsy.d23c0b81-9bfb-11ed-b544-80d1ae79c22c.jpg\n",
      "Collecting images for drowsy , image number 19 \n",
      "data\\images\\drowsy.d23c0b82-9bfb-11ed-b83f-80d1ae79c22c.jpg\n"
     ]
    }
   ],
   "source": [
    "for label in labels:\n",
    "    print('Collecting images for {}'.format(label))\n",
    "    for img_num in range(number_imgs):\n",
    "        print('Collecting images for {} , image number {} '.format(label,img_num))\n",
    "        imgname = os.path.join(IMAGES_PATH,label+'.'+str(uuid.uuid1())+'.jpg') \n",
    "        print(imgname)    "
   ]
  },
  {
   "cell_type": "code",
   "execution_count": 27,
   "id": "691559de",
   "metadata": {},
   "outputs": [
    {
     "name": "stderr",
     "output_type": "stream",
     "text": [
      "Cloning into 'labelImg'...\n"
     ]
    }
   ],
   "source": [
    "!git clone https://github.com/heartexlabs/labelImg"
   ]
  },
  {
   "cell_type": "markdown",
   "id": "287c3fa9",
   "metadata": {},
   "source": [
    "*Load Model*"
   ]
  },
  {
   "cell_type": "code",
   "execution_count": 36,
   "id": "e126d23d",
   "metadata": {},
   "outputs": [
    {
     "name": "stdout",
     "output_type": "stream",
     "text": [
      "Requirement already satisfied: pyqt5 in c:\\users\\prakh\\anaconda3\\lib\\site-packages (5.15.7)\n",
      "Requirement already satisfied: lxml in c:\\users\\prakh\\anaconda3\\lib\\site-packages (4.9.2)\n",
      "Requirement already satisfied: PyQt5-Qt5>=5.15.0 in c:\\users\\prakh\\anaconda3\\lib\\site-packages (from pyqt5) (5.15.2)\n",
      "Requirement already satisfied: PyQt5-sip<13,>=12.11 in c:\\users\\prakh\\anaconda3\\lib\\site-packages (from pyqt5) (12.11.0)\n"
     ]
    },
    {
     "ename": "NameError",
     "evalue": "name 'pwd' is not defined",
     "output_type": "error",
     "traceback": [
      "\u001b[1;31m---------------------------------------------------------------------------\u001b[0m",
      "\u001b[1;31mNameError\u001b[0m                                 Traceback (most recent call last)",
      "\u001b[1;32m~\\AppData\\Local\\Temp\\ipykernel_27616\\2700727367.py\u001b[0m in \u001b[0;36m<module>\u001b[1;34m\u001b[0m\n\u001b[0;32m      1\u001b[0m \u001b[0mget_ipython\u001b[0m\u001b[1;33m(\u001b[0m\u001b[1;33m)\u001b[0m\u001b[1;33m.\u001b[0m\u001b[0msystem\u001b[0m\u001b[1;33m(\u001b[0m\u001b[1;34m'pip install pyqt5 lxml --upgrade'\u001b[0m\u001b[1;33m)\u001b[0m\u001b[1;33m\u001b[0m\u001b[1;33m\u001b[0m\u001b[0m\n\u001b[1;32m----> 2\u001b[1;33m \u001b[0mprint\u001b[0m\u001b[1;33m(\u001b[0m\u001b[0mpwd\u001b[0m\u001b[1;33m)\u001b[0m\u001b[1;33m\u001b[0m\u001b[1;33m\u001b[0m\u001b[0m\n\u001b[0m",
      "\u001b[1;31mNameError\u001b[0m: name 'pwd' is not defined"
     ]
    }
   ],
   "source": [
    "!pip install pyqt5 lxml --upgrade\n",
    " "
   ]
  },
  {
   "cell_type": "code",
   "execution_count": 44,
   "id": "e2783685",
   "metadata": {},
   "outputs": [],
   "source": [
    "!pyrcc5 -o labelImg/libs/resources.py labelImg/resources.qrc"
   ]
  },
  {
   "cell_type": "code",
   "execution_count": null,
   "id": "be9b16dd",
   "metadata": {},
   "outputs": [],
   "source": [
    "!python yolov5/train.py --img 320 --batch 12 --epoch 500 --data yolov5/dataset.yml --weights yolov5s.pt --worker 2"
   ]
  },
  {
   "cell_type": "code",
   "execution_count": null,
   "id": "3d2716d5",
   "metadata": {},
   "outputs": [],
   "source": []
  },
  {
   "cell_type": "code",
   "execution_count": null,
   "id": "34c61cfc",
   "metadata": {},
   "outputs": [],
   "source": []
  }
 ],
 "metadata": {
  "kernelspec": {
   "display_name": "Python 3 (ipykernel)",
   "language": "python",
   "name": "python3"
  },
  "language_info": {
   "codemirror_mode": {
    "name": "ipython",
    "version": 3
   },
   "file_extension": ".py",
   "mimetype": "text/x-python",
   "name": "python",
   "nbconvert_exporter": "python",
   "pygments_lexer": "ipython3",
   "version": "3.9.13"
  }
 },
 "nbformat": 4,
 "nbformat_minor": 5
}
